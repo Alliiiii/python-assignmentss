{
 "cells": [
  {
   "cell_type": "code",
   "execution_count": null,
   "metadata": {},
   "outputs": [],
   "source": [
    "value1=int(input(\"please enter First value \"))\n",
    "value2=int(input(\"please enter Second value\"))\n",
    "operator=input(\"please enter a operator\")\n",
    "if operator == \"+\" : \n",
    "    result=value1+value2\n",
    "    print(\"Answer is:\", result)\n",
    "elif operator == \"-\" : \n",
    "    result=value1-value2\n",
    "    print(\"Answer is:\",result)\n",
    "elif operator == \"*\" : \n",
    "    result=value1*value2\n",
    "    print(\"Answer is:\",result)\n",
    "elif operator == \"/\" : \n",
    "    result=value1/value2\n",
    "    print(\"Answer is:\",result)\n",
    "elif operator == \"^\" : \n",
    "    result=value1**value2\n",
    "    print(\"Answer is:\",result)\n",
    "else :\n",
    "    print(\"invalid operator\")\n",
    "   "
   ]
  },
  {
   "cell_type": "code",
   "execution_count": null,
   "metadata": {},
   "outputs": [],
   "source": [
    "arr=[1,\"ali\",\"true\",2,34,57]\n",
    "for a in arr :\n",
    "    if type(a) == int:\n",
    "          print(a,\"is a numeric value in list\")\n",
    "    elif type(a) == float:\n",
    "                print(a, \"is a numeric value in list\")\n",
    "   \n",
    "        "
   ]
  },
  {
   "cell_type": "code",
   "execution_count": 34,
   "metadata": {},
   "outputs": [
    {
     "name": "stdout",
     "output_type": "stream",
     "text": [
      "{0: 10, 1: 20}\n",
      "{0: 10, 1: 20, 2: 30}\n"
     ]
    }
   ],
   "source": [
    "d = {0:10, 1:20}\n",
    "print(d)\n",
    "d.update({2:30})\n",
    "print(d)"
   ]
  },
  {
   "cell_type": "code",
   "execution_count": 23,
   "metadata": {},
   "outputs": [
    {
     "name": "stdout",
     "output_type": "stream",
     "text": [
      "The sum of all numeric value in dictionary is: 293\n"
     ]
    }
   ],
   "source": [
    "my_dict = {'data1':100,'data2':-54,'data3':247}\n",
    "print(\"The sum of all numeric value in dictionary is:\" ,sum(my_dict.values()))"
   ]
  },
  {
   "cell_type": "code",
   "execution_count": null,
   "metadata": {},
   "outputs": [],
   "source": [
    "arr1=['saad',22,17,'ali',17,'z']\n",
    "dup=[\"jazzz\"]\n",
    "for i in arr1:\n",
    "    for j in dup:\n",
    "        if(i==j):\n",
    "            print(i,\"is duplicate in list\")\n",
    "            dup.append(i)\n",
    "            "
   ]
  },
  {
   "cell_type": "code",
   "execution_count": null,
   "metadata": {},
   "outputs": [],
   "source": [
    "dic={\n",
    "    'num1' : 12,\n",
    "    'num2' : 15,\n",
    "    'string' : \"ali\"\n",
    "}\n",
    "check_key=input(\"enter a key name if exisit or not\")\n",
    "flag = False\n",
    "for i in dic.keys():\n",
    "    if i == check_key:\n",
    "        flag==True\n",
    "        break\n",
    "if flag == True:\n",
    "    print(\"Given key exisit\")\n",
    "else:\n",
    "    print(\"given key  doesn't exisit\")"
   ]
  },
  {
   "cell_type": "code",
   "execution_count": null,
   "metadata": {},
   "outputs": [],
   "source": []
  },
  {
   "cell_type": "code",
   "execution_count": null,
   "metadata": {},
   "outputs": [],
   "source": []
  },
  {
   "cell_type": "code",
   "execution_count": null,
   "metadata": {},
   "outputs": [],
   "source": []
  }
 ],
 "metadata": {
  "kernelspec": {
   "display_name": "Python 3",
   "language": "python",
   "name": "python3"
  },
  "language_info": {
   "codemirror_mode": {
    "name": "ipython",
    "version": 3
   },
   "file_extension": ".py",
   "mimetype": "text/x-python",
   "name": "python",
   "nbconvert_exporter": "python",
   "pygments_lexer": "ipython3",
   "version": "3.7.4"
  }
 },
 "nbformat": 4,
 "nbformat_minor": 2
}
