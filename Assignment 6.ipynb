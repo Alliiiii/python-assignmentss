{
 "cells": [
  {
   "cell_type": "code",
   "execution_count": 3,
   "metadata": {},
   "outputs": [
    {
     "ename": "SyntaxError",
     "evalue": "EOL while scanning string literal (<ipython-input-3-941c78590197>, line 9)",
     "output_type": "error",
     "traceback": [
      "\u001b[1;36m  File \u001b[1;32m\"<ipython-input-3-941c78590197>\"\u001b[1;36m, line \u001b[1;32m9\u001b[0m\n\u001b[1;33m    \"\"\"\"\u001b[0m\n\u001b[1;37m        \n^\u001b[0m\n\u001b[1;31mSyntaxError\u001b[0m\u001b[1;31m:\u001b[0m EOL while scanning string literal\n"
     ]
    }
   ],
   "source": [
    "##Define Object Oriented Programming Language?\n",
    "\n",
    "\"\"\"\"\n",
    "Object-oriented programming (OOP) is a programming language model in which programs are organized around data,\n",
    "or objects, rather than functions and logic. An object can be defined as a data field that has unique attributes and behavior.\n",
    "Examples of an object can range from physical entities, such as a human being that is described by properties like name and \n",
    "address, down to small computer programs, such as widgets. This opposes the historical approach to programming where emphasis \n",
    "was placed on how the logic was written rather than how to define the data within the logic.\n",
    "\"\"\"\""
   ]
  },
  {
   "cell_type": "code",
   "execution_count": null,
   "metadata": {},
   "outputs": [],
   "source": [
    "##List down the Benefits of OOP?\n",
    "\n",
    "\"\"\"\"\"\n",
    "Modularity for easier troubleshooting. Something has gone wrong, and you have no idea where to look. ...\n",
    "Reuse of code through inheritance. ...\n",
    "Flexibility through polymorphism. ...\n",
    "Effective problem solving\n",
    "\"\"\"\"\"\"\n"
   ]
  },
  {
   "cell_type": "code",
   "execution_count": null,
   "metadata": {},
   "outputs": [],
   "source": [
    "##Differentiate between function and method?\n",
    "\n",
    "\"\"\"\"\"\n",
    "A function is a piece of code that is called by name.\n",
    "It can be passed data to operate on (i.e. the parameters) and can optionally return data (the return value).\n",
    "All data that is passed to a function is explicitly passed. \n",
    "A method is a piece of code that is called by a name that is associated with an object.\n",
    "\"\"\"\"\"\""
   ]
  },
  {
   "cell_type": "code",
   "execution_count": null,
   "metadata": {},
   "outputs": [],
   "source": [
    "##Define the following terms:\n",
    "##1. Class\n",
    "##2. Object\n",
    "##3. Attribute\n",
    "##4. Behavior\n",
    "\n",
    "\n",
    "\"\"\"\"\n",
    "class is a blueprint for creating objects (a particular data structure), \n",
    "providing initial values for state (member variables or attributes),\n",
    "and implementations of behavior (member functions or methods). \n",
    "The user-defined objects are created using the class keyword\n",
    "\n",
    "\n",
    "An object is a component of a program that knows how to perform certain actions and how to interact with other elements of the\n",
    "program. Objects are the basic units of object-oriented programming.\n",
    "\n",
    "\n",
    "Attributes are data stored inside a class or instance and represent the state or quality of the class or instance.\n",
    "In short, attributes store information about the instance\n",
    "\n",
    "\n",
    "A class's behavior determines how an instance of that class operates; for example, how it will \"react\" if asked to do something\n",
    "by another class or object or if its internal state changes. Behavior is the only way objects can do anything to themselves or\n",
    "have anything done to them.\n",
    "\n",
    "\"\"\"\""
   ]
  },
  {
   "cell_type": "code",
   "execution_count": 38,
   "metadata": {},
   "outputs": [
    {
     "name": "stdout",
     "output_type": "stream",
     "text": [
      "Old price 100000\n",
      "Modified price 70000 \n",
      "\n",
      "Old ModelNo 2019\n",
      "Modified  ModelNo 2020 \n",
      "\n",
      "Old Warranty 2\n",
      "Modified  Warranty 3 \n",
      "\n",
      "All Attribute of Car Is:\n",
      "ModelNo is : 2016\n",
      "CarName is : Corre\n",
      "Color is: white\n",
      "Price is: 100000\n",
      "Warranty is: 2\n"
     ]
    }
   ],
   "source": [
    "class Car:\n",
    "    def __init__(self,ModelNo,CarName,Color,Price,Warranty):\n",
    "        self.ModelNo=ModelNo\n",
    "        self.CarName=CarName\n",
    "        self.Color=Color\n",
    "        self.Price=Price\n",
    "        self.Warranty=Warranty\n",
    "        \n",
    "    def updatecarprice(self,newprice):\n",
    "        self.Price=newprice\n",
    "        \n",
    "    def updatecarmodel(self,newmodel):\n",
    "        self.ModelNo=newmodel\n",
    "        \n",
    "    def updatecarwarranty(self,newwarranty):\n",
    "        self.Warranty=newwarranty\n",
    "         \n",
    "        \n",
    "    def printallattribute(self,ModelNo,CarName,Color,Price,Warranty):\n",
    "        print(\"All Attribute of Car Is:\")\n",
    "        print(\"ModelNo is :\",ModelNo)\n",
    "        print(\"CarName is :\",CarName)\n",
    "        print(\"Color is:\",Color)\n",
    "        print(\"Price is:\",Price)\n",
    "        print(\"Warranty is:\",Warranty)\n",
    "    \n",
    "        \n",
    "        \n",
    "car1= Car(2019,'Vitz','gray',100000,2)\n",
    "car2= Car(2018,'Passo','silver',100000,2)\n",
    "car3= Car(2017,'Mira','gray',100000,2)\n",
    "car4= Car(2016,'Cultus','black',100000,2)\n",
    "car5= Car(2016,'Corre','white',100000,2)\n",
    "\n",
    "print(\"Old price\",car1.Price)\n",
    "car1.updatecarprice(70000)\n",
    "print(\"Modified price\",car1.Price ,'\\n')\n",
    "\n",
    "\n",
    "\n",
    "print(\"Old ModelNo\",car1. ModelNo)\n",
    "car1.updatecarmodel(2020)\n",
    "print(\"Modified  ModelNo\",car1. ModelNo,'\\n')\n",
    "\n",
    "\n",
    "\n",
    "print(\"Old Warranty\",car1. Warranty)\n",
    "car1.updatecarwarranty(3)\n",
    "print(\"Modified  Warranty\",car1. Warranty,'\\n')\n",
    "\n",
    "car1.printallattribute(2016,'Corre','white',100000,2)\n"
   ]
  },
  {
   "cell_type": "code",
   "execution_count": null,
   "metadata": {},
   "outputs": [],
   "source": []
  },
  {
   "cell_type": "code",
   "execution_count": null,
   "metadata": {},
   "outputs": [],
   "source": []
  },
  {
   "cell_type": "code",
   "execution_count": null,
   "metadata": {},
   "outputs": [],
   "source": []
  }
 ],
 "metadata": {
  "kernelspec": {
   "display_name": "Python 3",
   "language": "python",
   "name": "python3"
  },
  "language_info": {
   "codemirror_mode": {
    "name": "ipython",
    "version": 3
   },
   "file_extension": ".py",
   "mimetype": "text/x-python",
   "name": "python",
   "nbconvert_exporter": "python",
   "pygments_lexer": "ipython3",
   "version": "3.7.4"
  }
 },
 "nbformat": 4,
 "nbformat_minor": 2
}
