{
 "cells": [
  {
   "cell_type": "code",
   "execution_count": 39,
   "metadata": {},
   "outputs": [
    {
     "name": "stdout",
     "output_type": "stream",
     "text": [
      "please enter your Mathematics marks3\n",
      "please enter your Science marks4\n",
      "please enter your English marks4\n",
      "please enter your Urdu marks5\n",
      "please enter your Islamiate marks5\n",
      "Total Obtained Marks is :21\n",
      "Grade is : F\n",
      "Percentage is: 4.2\n"
     ]
    }
   ],
   "source": [
    "mathematics=int(input(\"please enter your Mathematics marks\"))\n",
    "science=int(input(\"please enter your Science marks\"))\n",
    "English=int(input(\"please enter your English marks\"))\n",
    "Urdu=int(input(\"please enter your Urdu marks\"))\n",
    "Islamiate=int(input(\"please enter your Islamiate marks\"))\n",
    "total=mathematics+science+English+Urdu+Islamiate\n",
    "print(\"Total Obtained Marks is :\" + str(total))\n",
    "percentage=(total/500)*100\n",
    "if percentage<=100 and percentage>=80 :\n",
    "    print(\"Grade is : A+\")\n",
    "elif percentage<=79 and percentage>=70 :\n",
    "        print(\"Grade is : A\")\n",
    "elif percentage<=69 and percentage>=60 :\n",
    "        print(\"Grade is : B\")\n",
    "elif percentage<=59 and percentage>=50 :\n",
    "        print(\"Grade is : C\")\n",
    "elif percentage<=49 and percentage>=33 :\n",
    "        print(\"Grade is : D\")\n",
    "else :\n",
    "        print(\"Grade is : F\")\n",
    "print(\"Percentage is:\" , percentage)"
   ]
  },
  {
   "cell_type": "markdown",
   "metadata": {},
   "source": [
    " "
   ]
  },
  {
   "cell_type": "code",
   "execution_count": 7,
   "metadata": {},
   "outputs": [
    {
     "name": "stdout",
     "output_type": "stream",
     "text": [
      "Please Enter A number9\n",
      "Your Number is Odd\n"
     ]
    }
   ],
   "source": [
    "number=int(input(\"Please Enter A number\"))\n",
    "if number%2==0 :\n",
    "    print(\"Your Number is Even\")\n",
    "else :\n",
    "    print(\"Your Number is Odd\")"
   ]
  },
  {
   "cell_type": "code",
   "execution_count": 40,
   "metadata": {},
   "outputs": [
    {
     "name": "stdout",
     "output_type": "stream",
     "text": [
      "Length of array is : 6\n"
     ]
    }
   ],
   "source": [
    "arr=[1,2,3,4,5,\"ali\"]\n",
    "print(\"Length of array is :\" , len(arr))"
   ]
  },
  {
   "cell_type": "code",
   "execution_count": 38,
   "metadata": {},
   "outputs": [
    {
     "name": "stdout",
     "output_type": "stream",
     "text": [
      "Sum of all elements in given list:  74\n"
     ]
    }
   ],
   "source": [
    "total = 0\n",
    "list1 = [11, 5, 17, 18, 23] \n",
    "for ele in range(0, len(list1)): \n",
    "\ttotal = total + list1[ele] \n",
    "print(\"Sum of all elements in given list: \", total) \n"
   ]
  },
  {
   "cell_type": "markdown",
   "metadata": {},
   "source": []
  },
  {
   "cell_type": "code",
   "execution_count": 43,
   "metadata": {},
   "outputs": [
    {
     "name": "stdout",
     "output_type": "stream",
     "text": [
      "Maxium number in list is: 44\n"
     ]
    }
   ],
   "source": [
    "arr=[1,2,3,4,44,5]\n",
    "print(\"Maxium number in list is:\" ,  max(arr))"
   ]
  },
  {
   "cell_type": "code",
   "execution_count": 5,
   "metadata": {},
   "outputs": [
    {
     "name": "stdout",
     "output_type": "stream",
     "text": [
      "1\n",
      "1\n",
      "2\n",
      "3\n"
     ]
    }
   ],
   "source": [
    "a = [1, 1, 2, 3, 5, 8, 13, 21, 34, 55, 89]\n",
    "for i in a:\n",
    "    if i<5:\n",
    "        print(i)\n",
    "  "
   ]
  },
  {
   "cell_type": "code",
   "execution_count": null,
   "metadata": {},
   "outputs": [],
   "source": []
  },
  {
   "cell_type": "code",
   "execution_count": null,
   "metadata": {},
   "outputs": [],
   "source": []
  }
 ],
 "metadata": {
  "kernelspec": {
   "display_name": "Python 3",
   "language": "python",
   "name": "python3"
  },
  "language_info": {
   "codemirror_mode": {
    "name": "ipython",
    "version": 3
   },
   "file_extension": ".py",
   "mimetype": "text/x-python",
   "name": "python",
   "nbconvert_exporter": "python",
   "pygments_lexer": "ipython3",
   "version": "3.7.4"
  }
 },
 "nbformat": 4,
 "nbformat_minor": 2
}
