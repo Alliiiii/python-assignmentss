{
 "cells": [
  {
   "cell_type": "code",
   "execution_count": 1,
   "metadata": {},
   "outputs": [
    {
     "name": "stdout",
     "output_type": "stream",
     "text": [
      "Input a number to compute the factiorial : 5\n",
      "120\n"
     ]
    }
   ],
   "source": [
    "def factorial(n):\n",
    "    if n == 0:\n",
    "        return 1\n",
    "    else:\n",
    "        return n * factorial(n-1)\n",
    "n=int(input(\"Input a number to compute the factiorial : \"))\n",
    "print(factorial(n))"
   ]
  },
  {
   "cell_type": "code",
   "execution_count": 2,
   "metadata": {},
   "outputs": [
    {
     "name": "stdout",
     "output_type": "stream",
     "text": [
      "please enter a stringMuhammad Ali\n",
      "Original String :  Muhammad Ali\n",
      "No. of Upper case characters :  2\n",
      "No. of Lower case Characters :  9\n"
     ]
    }
   ],
   "source": [
    "def string_test(s):\n",
    "    d={\"UPPER_CASE\":0, \"LOWER_CASE\":0}\n",
    "    for c in s:\n",
    "        if c.isupper():\n",
    "           d[\"UPPER_CASE\"]+=1\n",
    "        elif c.islower():\n",
    "           d[\"LOWER_CASE\"]+=1\n",
    "        else:\n",
    "           pass\n",
    "    print (\"Original String : \", s)\n",
    "    print (\"No. of Upper case characters : \", d[\"UPPER_CASE\"])\n",
    "    print (\"No. of Lower case Characters : \", d[\"LOWER_CASE\"])\n",
    "\n",
    "string_test(s=input(\"please enter a string\"))"
   ]
  },
  {
   "cell_type": "code",
   "execution_count": null,
   "metadata": {},
   "outputs": [],
   "source": [
    " # Python program to print Even Numbers in a List \n",
    "\n",
    "# list of numbers \n",
    "#list1 = [10, 21, 4, 45, 66, 93] \n",
    "\n",
    "\n",
    "def evennumberinlist(list1):\n",
    "    for num in list1: \n",
    "        if num % 2 == 0: \n",
    "            print(num, end = \" \")\n",
    "        \n",
    "        \n",
    "\n",
    "evennumberinlist(list1 = [10, 21, 4, 45, 66, 93] )"
   ]
  },
  {
   "cell_type": "code",
   "execution_count": 3,
   "metadata": {},
   "outputs": [
    {
     "name": "stdout",
     "output_type": "stream",
     "text": [
      "Please enter stringali\n",
      "The string is not palindrome.\n"
     ]
    }
   ],
   "source": [
    "x = input(\"Please enter string\")\n",
    "w = \"\" \n",
    "for i in x: \n",
    "    w = i + w \n",
    "    if (x==w): \n",
    "        print(\"The string is  palindrome.\")\n",
    "        break\n",
    "    \n",
    "else: \n",
    "        print(\"The string is not palindrome.\")\n",
    "    \n",
    "    "
   ]
  },
  {
   "cell_type": "code",
   "execution_count": 4,
   "metadata": {},
   "outputs": [
    {
     "name": "stdout",
     "output_type": "stream",
     "text": [
      "please enter a number2\n",
      "number is prime\n",
      "True\n"
     ]
    }
   ],
   "source": [
    "def test_prime(n):\n",
    "    if (n==1):\n",
    "        print(\"number is not prime\")\n",
    "        return False\n",
    "    elif (n==2):\n",
    "        print(\"number is prime\")\n",
    "        return True;\n",
    "     \n",
    "    else:\n",
    "        for x in range(2,n):\n",
    "            if(n % x==0):\n",
    "                print(\"number is not prime\")\n",
    "                return False\n",
    "        print(\"number is prime\")\n",
    "        return True\n",
    "       \n",
    "\n",
    "print(test_prime(int(input(\"please enter a number\"))))"
   ]
  },
  {
   "cell_type": "code",
   "execution_count": 10,
   "metadata": {},
   "outputs": [
    {
     "ename": "IndentationError",
     "evalue": "unindent does not match any outer indentation level (<tokenize>, line 81)",
     "output_type": "error",
     "traceback": [
      "\u001b[1;36m  File \u001b[1;32m\"<tokenize>\"\u001b[1;36m, line \u001b[1;32m81\u001b[0m\n\u001b[1;33m    print(\"\\namount left\", s)\u001b[0m\n\u001b[1;37m    ^\u001b[0m\n\u001b[1;31mIndentationError\u001b[0m\u001b[1;31m:\u001b[0m unindent does not match any outer indentation level\n"
     ]
    }
   ],
   "source": [
    "# This loop will go on until the budget is integer or float \n",
    "while True: \n",
    "\ttry: \n",
    "\t\tbg = float(input(\"Enter your budget : \")) \n",
    "\t\t# if budget is integer or float it will be stored \n",
    "\t\t# temporarily in variable 's' \n",
    "\t\ts = bg \n",
    "\texcept ValueError: \n",
    "\t\tprint(\"PRINT NUMBER AS A AMOUNT\") \n",
    "\t\tcontinue\n",
    "\telse: \n",
    "\t\tbreak\n",
    "\n",
    "# dictionary to store product(\"name\"), quantity(\"quant\"), \n",
    "# price(\"price\") with empty list as their values \n",
    "a ={\"name\":[], \"quant\":[], \"price\":[]} \n",
    "\n",
    "# converting dictionary to list for further updation \n",
    "b = list(a.values()) \n",
    "\n",
    "# variable na value of \"name\" from dictionary 'a' \n",
    "na = b[0] \n",
    "\n",
    "# variable qu value of \"quant\" from dictionary 'a' \n",
    "qu = b[1] \n",
    "\n",
    "# variable pr value of \"price\" from dictionary 'a' \n",
    "pr = b[2] \n",
    "\n",
    "# This loop terminates when user select 2.EXIT option when asked \n",
    "# in try it will ask user for an option as an integer (1 or 2) \n",
    "# if correct then proceed else continue asking options \n",
    "while True: \n",
    "\ttry: \n",
    "\t\tch = int(input(\"1.ADD\\n2.EXIT\\nEnter your choice : \")) \n",
    "\texcept ValueError: \n",
    "\t\tprint(\"\\nERROR: Choose only digits from the given option\") \n",
    "\t\tcontinue\n",
    "\telse: \n",
    "\t\t# check the budget is greater than zero and option selected \n",
    "\t\t# by user is 1 i.e. to add an item \n",
    "\t\tif ch == 1 and s>0:\t \n",
    "\n",
    "\t\t\t# input products name\t\t\t\t \n",
    "\t\t\tpn = input(\"Enter product name : \") \n",
    "\t\t\t# input quantity of product \n",
    "\t\t\tq = input(\"Enter quantity : \") \n",
    "\t\t\t# input price of the product \n",
    "\t\t\tp = float(input(\"Enter price of the product : \")) \n",
    "\n",
    "\t\t\tif p>s: \n",
    "\t\t\t\t# checks if price is less than budget \n",
    "\t\t\t\tprint(\"\\nCAN, T BUT THE PRODUCT\") \n",
    "\t\t\t\tcontinue\n",
    "\n",
    "\t\t\telse: \n",
    "\t\t\t\t# checks if product name already in list \n",
    "\t\t\t\tif pn in na: \n",
    "\t\t\t\t\t# find the index of that product \n",
    "\t\t\t\t\tind = na.index(pn) \n",
    "\n",
    "\t\t\t\t\t# remove quantity from \"quant\" index of the product \n",
    "\t\t\t\t\tqu.remove(qu[ind]) \n",
    "\n",
    "\t\t\t\t\t# remove price from \"price\" index of the product \n",
    "\t\t\t\t\tpr.remove(pr[ind]) \n",
    "\n",
    "\t\t\t\t\t# insert new value given by user earlier \n",
    "\t\t\t\t\tqu.insert(ind, q) \n",
    "\n",
    "\t\t\t\t\t# insert new value given by user earlier \n",
    "\t\t\t\t\tpr.insert(ind, p) \n",
    "\n",
    "\t\t\t\t\t# subtracting the price from the budget and assign \n",
    "\t\t\t\t\t# it to 's' sum(pr) is because pr = [100, 200] if \n",
    "\t\t\t\t\t# budget is 500 then s = bg-sum(pr) = 200 \n",
    "\t\t\t\t\t# after updating for same product at index 0 let \n",
    "\t\t\t\t\t# pr = [200, 200] so s = 100 \n",
    "\t\t\t\t\ts = bg-sum(pr) \n",
    "\n",
    "                    print(\"\\namount left\", s) \n",
    "                else: \n",
    "\t\t\t\t\t# append value of in \"name\", \"quantity\", \"price\" \n",
    "                    na.append(pn) \n",
    "\n",
    "\t\t\t\t\t# as na = b[0] it will append all the value in the \n",
    "\t\t\t\t\t# list eg: \"name\":[\"rice\"] \n",
    "                    qu.append(q) \n",
    "\n",
    "\t\t\t\t\t# same for quantity and price \n",
    "                    pr.append(p)\t \n",
    "\n",
    "\t\t\t\t\t# after appending new value the sum in price \n",
    "\t\t\t\t\t# as to be calculated \n",
    "                    s = bg-sum(pr) \n",
    "\n",
    "                    print(\"\\namount left\", s) \n",
    "\n",
    "\t\t# if budget goes zero print \"NO BUDGET\" \n",
    "        elif s<= 0: \n",
    "            print(\"\\nNO BUDGET\") \n",
    "        else: \n",
    "            break\n",
    "\n",
    "# will print amount left in variable 's' \n",
    "print(\"\\nAmount left : Rs.\", s) \n",
    "\n",
    "# if the amount left equals to any amount in price list \n",
    "if s in pr: \n",
    "\t# then printing the name of the product which can buy \n",
    "            print(\"\\nAmount left can buy you a\", na[pr.index(s)]) \n",
    "\n",
    "print(\"\\n\\n\\nGROCERY LIST\") \n",
    "\n",
    "# print final grocery list \n",
    "for i in range(len(na)): \n",
    "    print(na[i], qu[i], pr[i]) \n"
   ]
  },
  {
   "cell_type": "code",
   "execution_count": null,
   "metadata": {},
   "outputs": [
    {
     "name": "stdout",
     "output_type": "stream",
     "text": [
      "Enter your budget : 1000\n",
      "1.ADD\n",
      "2.EXIT\n",
      "Enter your choice : 1\n",
      "Enter product name : juice\n",
      "Enter quantity : 1\n",
      "Enter price of the product : 100\n",
      "\n",
      "amount left 900.0\n",
      "1.ADD\n",
      "2.EXIT\n",
      "Enter your choice : 1\n",
      "Enter product name : wheat\n",
      "Enter quantity : 1\n"
     ]
    }
   ],
   "source": [
    "while True: \n",
    "    try: \n",
    "        bg = float(input(\"Enter your budget : \")) \n",
    "        s = bg \n",
    "    except ValueError: \n",
    "        print(\"PRINT NUMBER AS A AMOUNT\") \n",
    "        continue\n",
    "    else: \n",
    "        break\n",
    "\n",
    "a ={\"name\":[], \"quant\":[], \"price\":[]} \n",
    "\n",
    "b = list(a.values()) \n",
    "\n",
    "na = b[0] \n",
    "\n",
    "qu = b[1] \n",
    "\n",
    "pr = b[2] \n",
    "while True: \n",
    "    try: \n",
    "        ch = int(input(\"1.ADD\\n2.EXIT\\nEnter your choice : \")) \n",
    "    except ValueError: \n",
    "        print(\"\\nERROR: Choose only digits from the given option\") \n",
    "        continue\n",
    "    else: \n",
    "        if ch == 1 and s>0:\t \n",
    "\n",
    "            pn = input(\"Enter product name : \") \n",
    "            q = input(\"Enter quantity : \") \n",
    "            p = float(input(\"Enter price of the product : \")) \n",
    "            if p>s: \n",
    "                print(\"\\nCAN, T BUT THE PRODUCT\") \n",
    "                continue\n",
    "\n",
    "            else: \n",
    "                if pn in na: \n",
    "                    ind = na.index(pn) \n",
    "                    qu.remove(qu[ind]) \n",
    "                    pr.remove(pr[ind]) \n",
    "                    qu.insert(ind, q) \n",
    "                    pr.insert(ind, p) \n",
    "                    s = bg-sum(pr) \n",
    "                    print(\"\\namount left\", s) \n",
    "                else: \n",
    "                    na.append(pn) \n",
    "                    qu.append(q) \n",
    "                    pr.append(p)\n",
    "                    s = bg-sum(pr) \n",
    "                    print(\"\\namount left\", s) \n",
    "        elif s<= 0: \n",
    "            print(\"\\nNO BUDGET\") \n",
    "        else: \n",
    "            break\n",
    "print(\"\\nAmount left : Rs.\", s) \n",
    "if s in pr: \n",
    "    print(\"\\nAmount left can buy you a\", na[pr.index(s)]) \n",
    "\n",
    "print(\"\\n\\n\\nGROCERY LIST\") \n",
    "\n",
    "# print final grocery list \n",
    "for i in range(len(na)): \n",
    "\tprint(na[i], qu[i], pr[i]) \n"
   ]
  },
  {
   "cell_type": "code",
   "execution_count": null,
   "metadata": {},
   "outputs": [],
   "source": []
  },
  {
   "cell_type": "code",
   "execution_count": null,
   "metadata": {},
   "outputs": [],
   "source": []
  },
  {
   "cell_type": "code",
   "execution_count": null,
   "metadata": {},
   "outputs": [],
   "source": []
  }
 ],
 "metadata": {
  "kernelspec": {
   "display_name": "Python 3",
   "language": "python",
   "name": "python3"
  },
  "language_info": {
   "codemirror_mode": {
    "name": "ipython",
    "version": 3
   },
   "file_extension": ".py",
   "mimetype": "text/x-python",
   "name": "python",
   "nbconvert_exporter": "python",
   "pygments_lexer": "ipython3",
   "version": "3.7.4"
  }
 },
 "nbformat": 4,
 "nbformat_minor": 2
}
